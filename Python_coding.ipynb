{
  "nbformat": 4,
  "nbformat_minor": 0,
  "metadata": {
    "colab": {
      "name": "Python_coding.ipynb",
      "provenance": [],
      "authorship_tag": "ABX9TyMtUfk0K4tHBhNQGQqZ/ZRl",
      "include_colab_link": true
    },
    "kernelspec": {
      "name": "python3",
      "display_name": "Python 3"
    },
    "language_info": {
      "name": "python"
    }
  },
  "cells": [
    {
      "cell_type": "markdown",
      "metadata": {
        "id": "view-in-github",
        "colab_type": "text"
      },
      "source": [
        "<a href=\"https://colab.research.google.com/github/samudraray/samudraray/blob/main/Python_coding.ipynb\" target=\"_parent\"><img src=\"https://colab.research.google.com/assets/colab-badge.svg\" alt=\"Open In Colab\"/></a>"
      ]
    },
    {
      "cell_type": "code",
      "execution_count": null,
      "metadata": {
        "id": "T763nhvG7q7C",
        "colab": {
          "base_uri": "https://localhost:8080/",
          "height": 316
        },
        "outputId": "fabadb5f-f444-470d-f118-54b5028ce29d"
      },
      "outputs": [
        {
          "output_type": "stream",
          "name": "stdout",
          "text": [
            "-0.0167577 -1.0970325381612115e-06\n"
          ]
        },
        {
          "output_type": "execute_result",
          "data": {
            "text/plain": [
              "<matplotlib.legend.Legend at 0x7fc233340c90>"
            ]
          },
          "metadata": {},
          "execution_count": 1
        },
        {
          "output_type": "display_data",
          "data": {
            "text/plain": [
              "<Figure size 432x288 with 1 Axes>"
            ],
            "image/png": "[encoded data removed]"
          },
          "metadata": {
            "needs_background": "light"
          }
        }
      ],
      "source": [
        "\n",
        "\n",
        "from math import cos,sin,pi\n",
        "import numpy as np\n",
        "from scipy.integrate import quad\n",
        "import matplotlib.pyplot as plt\n",
        "Mmax=11.169599e-3  # this is maximum value of  M bar\n",
        "Pmax=-16.7577e-3   # this is maximum value P bar \n",
        "nS=101  # no of nodes along the beam\n",
        "h=1/(nS-1)  # the interval or distance between two nodes, the total length of beam is = 1  (no unit)\n",
        "nT=101  # the number of total time instatnts t=0,1,2,...100\n",
        "P=np.linspace(0,Pmax,nT) # this is P bar\n",
        "M=np.linspace(0,Mmax,nT) # this is M bar\n",
        "fd=np.linspace(0,0,10)   \n",
        "Phi=np.zeros([nS,nT])\n",
        "X=np.zeros([nS,nT])\n",
        "Y=np.zeros([nS,nT])\n",
        "tol=1e-8\n",
        "# dphi=u(s)+c*v(s);u\"+dP*cos(phi)-P*sin(phi)*u=0;u(0)=0,u'(0)=0\n",
        "def fu(ph,n,Pn,dP,h): \n",
        "    u1=np.linspace(0,0,n)  \n",
        "    u2=np.linspace(0,0,n)\n",
        "    for i in range(1,n):\n",
        "        \n",
        "        m1=h*u2[i-1]\n",
        "        th=ph[i-1]\n",
        "        k1=Pn*sin(th)*u1[i-1]-dP*cos(th)\n",
        "        k1=h*k1\n",
        "        \n",
        "        \n",
        "        m2=h*(u2[i-1]+k1*0.5)\n",
        "        th=0.5*(ph[i-1]+ph[i])\n",
        "        k2=Pn*sin(th)*(u1[i-1]+m1*0.5)-dP*cos(th)\n",
        "        k2=h*k2\n",
        "        \n",
        "        \n",
        "        m3=h*(u2[i-1]+k2*0.5)\n",
        "        #th=0.5*(ph[i-1]+ph[i])\n",
        "        k3=Pn*sin(th)*(u1[i-1]+m2*0.5)-dP*cos(th)\n",
        "        k3=h*k3\n",
        "        \n",
        "        \n",
        "        m4=h*(u2[i-1]+k3)\n",
        "        th=ph[i]\n",
        "        k4=Pn*sin(th)*(u1[i-1]+m3)-dP*cos(th)\n",
        "        k4=h*k4\n",
        "        \n",
        "        \n",
        "        u1[i]=u1[i-1]+(1/6)*(m1+2*m2+2*m3+m4)\n",
        "        u2[i]=u2[i-1]+(1/6)*(k1+2*k2+2*k3+k4)\n",
        "        \n",
        "    return u1,u2\n",
        "# dphi=u(s)+c*v(s);v\"-P*sin(phi)*v=0;v(0)=0,v'(0)=1\n",
        "def fv(ph,n,Pn,h):\n",
        "    v1=np.linspace(0,0,n)  \n",
        "    v2=np.linspace(0,0,n)\n",
        "    v2[0]=1\n",
        "    for i in range(1,n):\n",
        "        m1=h*v2[i-1]\n",
        "        th=ph[i-1]\n",
        "        k1=h*Pn*sin(th)*v1[i-1]\n",
        "        \n",
        "        m2=h*(v2[i-1]+0.5*k1)\n",
        "        th=0.5*(ph[i-1]+ph[i])\n",
        "        k2=h*(Pn*sin(th)*(v1[i-1]+0.5*m1))\n",
        "        \n",
        "        m3=h*(v2[i-1]+0.5*k2)\n",
        "        #th=0.5*(ph[i-1]+ph[i])\n",
        "        k3=h*(Pn*sin(th)*(v1[i-1]+0.5*m2))\n",
        "        \n",
        "        m4=h*(v2[i-1]+k3)\n",
        "        th=ph[i]\n",
        "        k4=h*(Pn*sin(th)*(v1[i-1]+m3))\n",
        "        \n",
        "\n",
        "        \n",
        "        v1[i]=v1[i-1]+(1/6)*(m1+2*m2+2*m3+m4)\n",
        "        v2[i]=v2[i-1]+(1/6)*(k1+2*k2+2*k3+k4)\n",
        "    return v1,v2\n",
        "def simp3(h,n,phi): # Simpson's 1/3rd rule\n",
        "    x=np.linspace(0,0,n)\n",
        "    y=np.linspace(0,0,n)\n",
        "   \n",
        "    x[1]=0.5*h*(cos(phi[0])+cos(phi[1]))\n",
        "    y[1]=0.5*h*(sin(phi[0])+sin(phi[1]))\n",
        "    \n",
        "    d=1/3*h\n",
        "    for i in range(2,n):\n",
        "        x[i]=x[i-2]+d*(cos(phi[i-2])+4*cos(phi[i-1])+cos(phi[i]))\n",
        "        y[i]=y[i-2]+d*(sin(phi[i-2])+4*sin(phi[i-1])+sin(phi[i]))\n",
        "    return x,y \n",
        "\n",
        "for i in range(1,nT):  \n",
        "    dP=P[i]-P[i-1]\n",
        "    dM=M[i]-M[i-1]\n",
        "    Pn=P[i-1]\n",
        "    ph=Phi[:,i-1]  # the angle phi at al the nodes at time i-1\n",
        "    u1,u2=fu(ph,nS,Pn,dP,h)    \n",
        "    v1,v2=fv(ph,nS,Pn,h)\n",
        "    #print(i,u1[nS-1],v1[nS-1])\n",
        "\n",
        "    if abs(v2[nS-1])<=tol:\n",
        "        dphi=u1\n",
        "        print('hi this is special')\n",
        "    else:\n",
        "        c=((dM-u2[nS-1])/v2[nS-1])\n",
        "        dphi=u1+c*v1\n",
        "        #print(u1[1],v1[1],c,dphi[1])\n",
        "        \n",
        "    Phi[:,i]=Phi[:,i-1]+dphi  # phi is updated here\n",
        "    x,y=simp3(h,nS,Phi[:,i])  # the x-y coordinates at all s are obtained here\n",
        "    X[:,i]=x\n",
        "    Y[:,i]=y   \n",
        "\n",
        "print(P[nT-1],Y[nS-1,nT-1])        \n",
        "\n",
        "del_an=np.zeros([nT])  # small deformation theory displacement\n",
        "\n",
        "for i in range(1,nT):\n",
        "  del_an[i]=P[i]/3\n",
        "\n",
        "\n",
        "\n",
        "#plt.figure()\n",
        "#plt.plot(Phi[nS-1,:],P,label='response')\n",
        "#plt.plot(Y[nS-1,:],P,label='large deflection response')\n",
        "#plt.plot(del_an,P,label='small deflection response')\n",
        "plt.plot(X[:,nT-1],-Y[:,nT-1],label='final deformed profile')\n",
        "plt.xlabel('$\\delta$')\n",
        "plt.ylabel('${P}$')\n",
        "plt.grid()\n",
        "plt.legend(loc='best')  \n",
        "\n",
        "   \n",
        "    \n",
        "\n",
        "    \n",
        "    "
      ]
    }
  ]
}